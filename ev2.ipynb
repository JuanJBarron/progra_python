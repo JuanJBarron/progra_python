{
 "cells": [
  {
   "cell_type": "code",
   "execution_count": 3,
   "id": "2d836f85",
   "metadata": {},
   "outputs": [
    {
     "name": "stdout",
     "output_type": "stream",
     "text": [
      "Ingrese el nombre del estudiante: Juan\n",
      "Ingrese la edad del estudiante: 15\n",
      "Ingrese la nota del estudiante: 4\n",
      "\n",
      "Información del estudiante:\n",
      "Nombre: Juan, Edad: 15, Nota: 4.0\n"
     ]
    }
   ],
   "source": [
    "class Estudiante:\n",
    "    def __init__(self, nombre, edad, nota):\n",
    "        self.nombre = nombre\n",
    "        self.edad = edad\n",
    "        self._nota = nota\n",
    "\n",
    "    def obtener_nota(self):\n",
    "        return self._nota\n",
    "\n",
    "    @property\n",
    "    def nota(self):\n",
    "        return self._nota\n",
    "\n",
    "    @nota.setter\n",
    "    def nota(self, nueva_nota):\n",
    "        if 0 <= nueva_nota <= 10:\n",
    "            self._nota = nueva_nota\n",
    "        else:\n",
    "            print(\"La nota debe estar en el rango de 0 a 10\")\n",
    "\n",
    "    def mostrar_informacion(self):\n",
    "        print(f\"Nombre: {self.nombre}, Edad: {self.edad}, Nota: {self._nota}\")\n",
    "\n",
    "\n",
    "nombre = input(\"Ingrese el nombre del estudiante: \")\n",
    "edad = int(input(\"Ingrese la edad del estudiante: \"))\n",
    "nota = float(input(\"Ingrese la nota del estudiante: \"))\n",
    "\n",
    "estudiante1 = Estudiante(nombre=nombre, edad=edad, nota=nota)\n",
    "\n",
    "print(\"\\nInformación del estudiante:\")\n",
    "estudiante1.mostrar_informacion()\n",
    "\n",
    "\n"
   ]
  },
  {
   "cell_type": "code",
   "execution_count": null,
   "id": "ab612960",
   "metadata": {},
   "outputs": [],
   "source": []
  },
  {
   "cell_type": "code",
   "execution_count": null,
   "id": "11544570",
   "metadata": {},
   "outputs": [],
   "source": []
  }
 ],
 "metadata": {
  "kernelspec": {
   "display_name": "Python 3 (ipykernel)",
   "language": "python",
   "name": "python3"
  },
  "language_info": {
   "codemirror_mode": {
    "name": "ipython",
    "version": 3
   },
   "file_extension": ".py",
   "mimetype": "text/x-python",
   "name": "python",
   "nbconvert_exporter": "python",
   "pygments_lexer": "ipython3",
   "version": "3.11.5"
  }
 },
 "nbformat": 4,
 "nbformat_minor": 5
}
