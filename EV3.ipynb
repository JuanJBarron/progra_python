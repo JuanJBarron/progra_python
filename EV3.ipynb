{
 "cells": [
  {
   "cell_type": "code",
   "execution_count": 4,
   "id": "77aac5de",
   "metadata": {},
   "outputs": [
    {
     "name": "stdout",
     "output_type": "stream",
     "text": [
      "Ingrese el nombre: juan\n",
      "Ingrese la edad: 18\n",
      "Ingrese la ciudad: Monteyork\n",
      "Objeto guardado en objeto_serializado.pickle\n",
      "Objeto cargado desde objeto_serializado.pickle\n",
      "\n",
      "Objeto Original:\n",
      "{'nombre': 'juan', 'edad': 18, 'ciudad': 'Monteyork'}\n",
      "\n",
      "Objeto Recuperado:\n",
      "{'nombre': 'juan', 'edad': 18, 'ciudad': 'Monteyork'}\n"
     ]
    }
   ],
   "source": [
    "import pickle\n",
    "\n",
    "def guardar_objeto_en_pickle(objeto, nombre_archivo):\n",
    "    with open(nombre_archivo, 'wb') as archivo:\n",
    "        pickle.dump(objeto, archivo)\n",
    "    print(f'Objeto guardado en {nombre_archivo}')\n",
    "\n",
    "def cargar_objeto_desde_pickle(nombre_archivo):\n",
    "    with open(nombre_archivo, 'rb') as archivo:\n",
    "        objeto = pickle.load(archivo)\n",
    "    print(f'Objeto cargado desde {nombre_archivo}')\n",
    "    return objeto\n",
    "\n",
    "nombre = input(\"Ingrese el nombre: \")\n",
    "edad = int(input(\"Ingrese la edad: \"))\n",
    "ciudad = input(\"Ingrese la ciudad: \")\n",
    "\n",
    "objeto_original = {'nombre': nombre, 'edad': edad, 'ciudad': ciudad}\n",
    "\n",
    "archivo_pickle = 'objeto_serializado.pickle'\n",
    "\n",
    "guardar_objeto_en_pickle(objeto_original, archivo_pickle)\n",
    "\n",
    "objeto_recuperado = cargar_objeto_desde_pickle(archivo_pickle)\n",
    "\n",
    "print('\\nObjeto Original:')\n",
    "print(objeto_original)\n",
    "\n",
    "print('\\nObjeto Recuperado:')\n",
    "print(objeto_recuperado)\n"
   ]
  },
  {
   "cell_type": "code",
   "execution_count": null,
   "id": "946cb22d",
   "metadata": {},
   "outputs": [],
   "source": []
  }
 ],
 "metadata": {
  "kernelspec": {
   "display_name": "Python 3 (ipykernel)",
   "language": "python",
   "name": "python3"
  },
  "language_info": {
   "codemirror_mode": {
    "name": "ipython",
    "version": 3
   },
   "file_extension": ".py",
   "mimetype": "text/x-python",
   "name": "python",
   "nbconvert_exporter": "python",
   "pygments_lexer": "ipython3",
   "version": "3.11.5"
  }
 },
 "nbformat": 4,
 "nbformat_minor": 5
}
